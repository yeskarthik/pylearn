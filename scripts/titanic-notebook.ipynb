{
 "cells": [
  {
   "cell_type": "code",
   "execution_count": 752,
   "metadata": {
    "collapsed": true
   },
   "outputs": [],
   "source": [
    "import numpy as np"
   ]
  },
  {
   "cell_type": "code",
   "execution_count": 753,
   "metadata": {
    "collapsed": true
   },
   "outputs": [],
   "source": [
    "import pandas as pd"
   ]
  },
  {
   "cell_type": "code",
   "execution_count": 754,
   "metadata": {
    "collapsed": true
   },
   "outputs": [],
   "source": [
    "from pomegranate import *"
   ]
  },
  {
   "cell_type": "code",
   "execution_count": 755,
   "metadata": {
    "collapsed": true
   },
   "outputs": [],
   "source": [
    "def p_survived(list_x):\n",
    "    return (list_x[(list_x.Survived == 1)].count() + 1 ) / (list_x.count() + 2)"
   ]
  },
  {
   "cell_type": "code",
   "execution_count": null,
   "metadata": {
    "collapsed": true
   },
   "outputs": [],
   "source": []
  },
  {
   "cell_type": "code",
   "execution_count": 756,
   "metadata": {
    "collapsed": true
   },
   "outputs": [],
   "source": [
    "passenger = DiscreteDistribution( { 'survive': 0.5, 'perish': 0.5 } )"
   ]
  },
  {
   "cell_type": "code",
   "execution_count": 757,
   "metadata": {
    "collapsed": false
   },
   "outputs": [],
   "source": [
    "train_data = pd.read_csv('../data/titanic/train.csv', header=0)"
   ]
  },
  {
   "cell_type": "code",
   "execution_count": 758,
   "metadata": {
    "collapsed": true
   },
   "outputs": [],
   "source": [
    "gen_male = train_data[train_data.Sex == 'male']"
   ]
  },
  {
   "cell_type": "code",
   "execution_count": 759,
   "metadata": {
    "collapsed": true
   },
   "outputs": [],
   "source": [
    "gen_female = train_data[train_data.Sex == 'female']"
   ]
  },
  {
   "cell_type": "code",
   "execution_count": 760,
   "metadata": {
    "collapsed": false
   },
   "outputs": [],
   "source": [
    "p_gen_male = p_survived(gen_male)['Sex']"
   ]
  },
  {
   "cell_type": "code",
   "execution_count": 761,
   "metadata": {
    "collapsed": true
   },
   "outputs": [],
   "source": [
    "p_gen_female = p_survived(gen_female)['Sex']"
   ]
  },
  {
   "cell_type": "code",
   "execution_count": 762,
   "metadata": {
    "collapsed": false
   },
   "outputs": [
    {
     "data": {
      "text/plain": [
       "(449, 251)"
      ]
     },
     "execution_count": 762,
     "metadata": {},
     "output_type": "execute_result"
    }
   ],
   "source": [
    "len(gen_male), len(gen_female)"
   ]
  },
  {
   "cell_type": "code",
   "execution_count": null,
   "metadata": {
    "collapsed": true
   },
   "outputs": [],
   "source": []
  },
  {
   "cell_type": "code",
   "execution_count": 763,
   "metadata": {
    "collapsed": true
   },
   "outputs": [],
   "source": [
    "gender = ConditionalProbabilityTable(\n",
    "            [[ 'survive', 'male',   p_gen_male ],\n",
    "             [ 'survive', 'female', p_gen_female ],\n",
    "             [ 'perish', 'male',    1 - p_gen_male ],\n",
    "\t         [ 'perish', 'female',  1 - p_gen_female]], [passenger] )\n"
   ]
  },
  {
   "cell_type": "code",
   "execution_count": 764,
   "metadata": {
    "collapsed": false
   },
   "outputs": [],
   "source": [
    "tclass_1 = train_data[train_data.Pclass == 1]"
   ]
  },
  {
   "cell_type": "code",
   "execution_count": 765,
   "metadata": {
    "collapsed": true
   },
   "outputs": [],
   "source": [
    "tclass_2 = train_data[train_data.Pclass == 2]"
   ]
  },
  {
   "cell_type": "code",
   "execution_count": 766,
   "metadata": {
    "collapsed": true
   },
   "outputs": [],
   "source": [
    "tclass_3 = train_data[train_data.Pclass == 3]"
   ]
  },
  {
   "cell_type": "code",
   "execution_count": 767,
   "metadata": {
    "collapsed": true
   },
   "outputs": [],
   "source": [
    "p_tclass_1 = p_survived(tclass_1)['Pclass']"
   ]
  },
  {
   "cell_type": "code",
   "execution_count": 768,
   "metadata": {
    "collapsed": true
   },
   "outputs": [],
   "source": [
    "p_tclass_2 = p_survived(tclass_2)['Pclass']"
   ]
  },
  {
   "cell_type": "code",
   "execution_count": 769,
   "metadata": {
    "collapsed": true
   },
   "outputs": [],
   "source": [
    "p_tclass_3 = p_survived(tclass_3)['Pclass']"
   ]
  },
  {
   "cell_type": "code",
   "execution_count": 770,
   "metadata": {
    "collapsed": false
   },
   "outputs": [
    {
     "name": "stdout",
     "output_type": "stream",
     "text": [
      "0.602339181287 0.489795918367 0.255154639175\n"
     ]
    }
   ],
   "source": [
    "print p_tclass_1, p_tclass_2, p_tclass_3"
   ]
  },
  {
   "cell_type": "code",
   "execution_count": 771,
   "metadata": {
    "collapsed": false
   },
   "outputs": [
    {
     "data": {
      "text/plain": [
       "3.0"
      ]
     },
     "execution_count": 771,
     "metadata": {},
     "output_type": "execute_result"
    }
   ],
   "source": [
    "train_data.Pclass.median() #So use third class for NaN"
   ]
  },
  {
   "cell_type": "code",
   "execution_count": 772,
   "metadata": {
    "collapsed": true
   },
   "outputs": [],
   "source": [
    "tclass = ConditionalProbabilityTable(\n",
    "            [[ 'survive', 'first',  p_tclass_1 ],\n",
    "             [ 'survive', 'second', p_tclass_2 ],\n",
    "             [ 'survive', 'third',  p_tclass_3 ],\n",
    "             [ 'perish', 'first',  1 - p_tclass_1 ],\n",
    "             [ 'perish', 'second', 1 - p_tclass_2 ],\n",
    "\t         [ 'perish', 'third',  1 - p_tclass_3]], [passenger] )\n"
   ]
  },
  {
   "cell_type": "code",
   "execution_count": null,
   "metadata": {
    "collapsed": true
   },
   "outputs": [],
   "source": []
  },
  {
   "cell_type": "code",
   "execution_count": 773,
   "metadata": {
    "collapsed": true
   },
   "outputs": [],
   "source": [
    "age_1 = train_data[train_data.Age < 20]"
   ]
  },
  {
   "cell_type": "code",
   "execution_count": 774,
   "metadata": {
    "collapsed": true
   },
   "outputs": [],
   "source": [
    "age_2 = train_data[(train_data.Age >= 20) & (train_data.Age < 40)]"
   ]
  },
  {
   "cell_type": "code",
   "execution_count": 775,
   "metadata": {
    "collapsed": true
   },
   "outputs": [],
   "source": [
    "age_3 = train_data[(train_data.Age >= 40) & (train_data.Age < 60)]"
   ]
  },
  {
   "cell_type": "code",
   "execution_count": 776,
   "metadata": {
    "collapsed": true
   },
   "outputs": [],
   "source": [
    "age_4 = train_data[(train_data.Age >= 60) & (train_data.Age < 80)]"
   ]
  },
  {
   "cell_type": "code",
   "execution_count": 777,
   "metadata": {
    "collapsed": true
   },
   "outputs": [],
   "source": [
    "age_5 = train_data[(train_data.Age >= 80)]"
   ]
  },
  {
   "cell_type": "code",
   "execution_count": null,
   "metadata": {
    "collapsed": true
   },
   "outputs": [],
   "source": []
  },
  {
   "cell_type": "code",
   "execution_count": 778,
   "metadata": {
    "collapsed": false
   },
   "outputs": [],
   "source": [
    "p_age_1 = p_survived(age_1)['Age']"
   ]
  },
  {
   "cell_type": "code",
   "execution_count": 779,
   "metadata": {
    "collapsed": false
   },
   "outputs": [],
   "source": [
    "p_age_2 = p_survived(age_2)['Age']"
   ]
  },
  {
   "cell_type": "code",
   "execution_count": 780,
   "metadata": {
    "collapsed": false
   },
   "outputs": [],
   "source": [
    "p_age_3 = p_survived(age_3)['Age']"
   ]
  },
  {
   "cell_type": "code",
   "execution_count": 781,
   "metadata": {
    "collapsed": true
   },
   "outputs": [],
   "source": [
    "p_age_4 = p_survived(age_4)['Age']"
   ]
  },
  {
   "cell_type": "code",
   "execution_count": 782,
   "metadata": {
    "collapsed": true
   },
   "outputs": [],
   "source": [
    "p_age_5 = p_survived(age_5)['Age']"
   ]
  },
  {
   "cell_type": "code",
   "execution_count": 783,
   "metadata": {
    "collapsed": false
   },
   "outputs": [
    {
     "data": {
      "text/plain": [
       "28.0"
      ]
     },
     "execution_count": 783,
     "metadata": {},
     "output_type": "execute_result"
    }
   ],
   "source": [
    "train_data.Age.median() #so use age_2 for NaN"
   ]
  },
  {
   "cell_type": "code",
   "execution_count": 784,
   "metadata": {
    "collapsed": true
   },
   "outputs": [],
   "source": [
    "age = ConditionalProbabilityTable(\n",
    "            [[ 'survive', 'age_1',   p_age_1 ],\n",
    "             [ 'survive', 'age_2', p_age_2 ],\n",
    "             [ 'survive', 'age_3', p_age_3 ],\n",
    "             [ 'survive', 'age_4', p_age_4 ],\n",
    "             [ 'survive', 'age_5', p_age_5 ],             \n",
    "             [ 'perish', 'age_1',    1 - p_age_1 ],\n",
    "             [ 'perish', 'age_2',    1 - p_age_2 ],\n",
    "             [ 'perish', 'age_3',    1 - p_age_3 ],\n",
    "             [ 'perish', 'age_4',    1 - p_age_4 ],\n",
    "\t         [ 'perish', 'age_5',  1 - p_age_5]], [passenger] )"
   ]
  },
  {
   "cell_type": "code",
   "execution_count": null,
   "metadata": {
    "collapsed": true
   },
   "outputs": [],
   "source": []
  },
  {
   "cell_type": "code",
   "execution_count": 785,
   "metadata": {
    "collapsed": true
   },
   "outputs": [],
   "source": [
    "embark_c = train_data[train_data.Embarked == 'C']"
   ]
  },
  {
   "cell_type": "code",
   "execution_count": 786,
   "metadata": {
    "collapsed": false
   },
   "outputs": [],
   "source": [
    "embark_q = train_data[train_data.Embarked == 'Q']"
   ]
  },
  {
   "cell_type": "code",
   "execution_count": 787,
   "metadata": {
    "collapsed": true
   },
   "outputs": [],
   "source": [
    "embark_s = train_data[train_data.Embarked == 'S']"
   ]
  },
  {
   "cell_type": "code",
   "execution_count": null,
   "metadata": {
    "collapsed": false
   },
   "outputs": [],
   "source": []
  },
  {
   "cell_type": "code",
   "execution_count": 789,
   "metadata": {
    "collapsed": true
   },
   "outputs": [],
   "source": [
    "p_embark_c = p_survived(embark_c)['Embarked']"
   ]
  },
  {
   "cell_type": "code",
   "execution_count": 790,
   "metadata": {
    "collapsed": true
   },
   "outputs": [],
   "source": [
    "p_embark_q = p_survived(embark_q)['Embarked']"
   ]
  },
  {
   "cell_type": "code",
   "execution_count": 791,
   "metadata": {
    "collapsed": true
   },
   "outputs": [],
   "source": [
    "p_embark_s = p_survived(embark_s)['Embarked']"
   ]
  },
  {
   "cell_type": "code",
   "execution_count": null,
   "metadata": {
    "collapsed": false
   },
   "outputs": [],
   "source": []
  },
  {
   "cell_type": "code",
   "execution_count": 792,
   "metadata": {
    "collapsed": false
   },
   "outputs": [],
   "source": [
    "embarked = ConditionalProbabilityTable(\n",
    "            [[ 'survive', 'embark_c',   p_embark_c ],\n",
    "             [ 'survive', 'embark_q',   p_embark_q ],\n",
    "             [ 'survive', 'embark_s',   p_embark_s ],\n",
    "             [ 'perish', 'embark_c',   1-p_embark_c ],\n",
    "             [ 'perish', 'embark_q',   1-p_embark_q ],\n",
    "             [ 'perish', 'embark_s',   1-p_embark_s ]], [passenger])"
   ]
  },
  {
   "cell_type": "code",
   "execution_count": null,
   "metadata": {
    "collapsed": false
   },
   "outputs": [],
   "source": []
  },
  {
   "cell_type": "code",
   "execution_count": 793,
   "metadata": {
    "collapsed": false
   },
   "outputs": [
    {
     "data": {
      "text/plain": [
       "True"
      ]
     },
     "execution_count": 793,
     "metadata": {},
     "output_type": "execute_result"
    }
   ],
   "source": [
    "a = 'asdasda'\n",
    "a.startswith('asd')"
   ]
  },
  {
   "cell_type": "code",
   "execution_count": null,
   "metadata": {
    "collapsed": true
   },
   "outputs": [],
   "source": []
  },
  {
   "cell_type": "code",
   "execution_count": 794,
   "metadata": {
    "collapsed": false
   },
   "outputs": [],
   "source": [
    "name_mr = train_data[(train_data.Name.str.contains(', Mr. '))]\n",
    "name_ms = train_data[(train_data.Name.str.contains(', Miss. '))]\n",
    "name_mrs = train_data[(train_data.Name.str.contains(', Mrs. '))]\n",
    "name_mas = train_data[(train_data.Name.str.contains(', Master. '))]\n",
    "name_other = train_data[~((train_data.Name.str.contains(', Mr. ')) | (train_data.Name.str.contains(', Miss. ')) \n",
    "                          |  (train_data.Name.str.contains(', Mrs. ')) | (train_data.Name.str.contains(', Master. '))\n",
    "                         | (train_data.Name.str.contains(', Master. ')))]\n"
   ]
  },
  {
   "cell_type": "code",
   "execution_count": null,
   "metadata": {
    "collapsed": false
   },
   "outputs": [],
   "source": []
  },
  {
   "cell_type": "code",
   "execution_count": 796,
   "metadata": {
    "collapsed": false
   },
   "outputs": [],
   "source": [
    "def p_name(xlist, sex, age):\n",
    "    if age == 'age_1':\n",
    "        return (xlist[(xlist.Sex == sex) & (xlist.Age < 20)].count() + 1) / (xlist.count() + 10)\n",
    "    if age == 'age_2':\n",
    "        return (xlist[(xlist.Sex == sex) & (xlist.Age >= 20) & (xlist.Age < 40)].count() + 1) / (xlist.count() + 10)\n",
    "    if age == 'age_3':\n",
    "        return (xlist[(xlist.Sex == sex) & (xlist.Age >= 40) & (xlist.Age < 60)].count() + 1) / (xlist.count() + 10)\n",
    "    if age == 'age_4':\n",
    "        return (xlist[(xlist.Sex == sex) & (xlist.Age >= 60) & (xlist.Age < 80)].count() + 1) / (xlist.count() + 10)\n",
    "    if age == 'age_5':\n",
    "        return (xlist[(xlist.Sex == sex) & (xlist.Age >= 80)].count() + 1) / (xlist.count() + 10)\n"
   ]
  },
  {
   "cell_type": "code",
   "execution_count": null,
   "metadata": {
    "collapsed": false,
    "scrolled": true
   },
   "outputs": [],
   "source": []
  },
  {
   "cell_type": "code",
   "execution_count": null,
   "metadata": {
    "collapsed": true
   },
   "outputs": [],
   "source": []
  },
  {
   "cell_type": "code",
   "execution_count": 798,
   "metadata": {
    "collapsed": false
   },
   "outputs": [],
   "source": [
    "name = ConditionalProbabilityTable([[ 'male', 'age_1', 'mr', p_name(name_mr, 'male', 'age_1')['Name']],\n",
    "                                    [ 'male', 'age_2', 'mr',  p_name(name_mr, 'male', 'age_2')['Name']],\n",
    "                                    [ 'male', 'age_3', 'mr', p_name(name_mr, 'male', 'age_3')['Name']],\n",
    "                                    [ 'male', 'age_4', 'mr', p_name(name_mr, 'male', 'age_4')['Name']],\n",
    "                                    [ 'male', 'age_5', 'mr', p_name(name_mr, 'male', 'age_5')['Name']],\n",
    "[ 'male', 'age_1', 'ms', p_name(name_ms, 'male', 'age_1')['Name']],\n",
    "                                    [ 'male', 'age_2', 'ms', p_name(name_ms, 'male', 'age_2')['Name']],\n",
    "                                    [ 'male', 'age_3', 'ms', p_name(name_ms, 'male', 'age_3')['Name']],\n",
    "                                    [ 'male', 'age_4', 'ms', p_name(name_ms, 'male', 'age_4')['Name']],\n",
    "                                    [ 'male', 'age_5', 'ms', p_name(name_ms, 'male', 'age_5')['Name']],\n",
    "[ 'male', 'age_1', 'mrs', p_name(name_mrs, 'male', 'age_1')['Name']],\n",
    "                                    [ 'male', 'age_2', 'mrs', p_name(name_mrs, 'male', 'age_2')['Name']],\n",
    "                                    [ 'male', 'age_3', 'mrs', p_name(name_mrs, 'male', 'age_3')['Name']],\n",
    "                                    [ 'male', 'age_4', 'mrs', p_name(name_mrs, 'male', 'age_4')['Name']],\n",
    "                                    [ 'male', 'age_5', 'mrs', p_name(name_mrs, 'male', 'age_5')['Name']],\n",
    "[ 'male', 'age_1', 'mas', p_name(name_mas, 'male', 'age_1')['Name']],\n",
    "                                    [ 'male', 'age_2', 'mas', p_name(name_mas, 'male', 'age_2')['Name']],\n",
    "                                    [ 'male', 'age_3', 'mas', p_name(name_mas, 'male', 'age_3')['Name']],\n",
    "                                    [ 'male', 'age_4', 'mas', p_name(name_mas, 'male', 'age_4')['Name']],\n",
    "                                    [ 'male', 'age_5', 'mas', p_name(name_mas, 'male', 'age_5')['Name']],\n",
    "[ 'male', 'age_1', 'other', p_name(name_don, 'male', 'age_1')['Name']],\n",
    "                                    [ 'male', 'age_2', 'other', p_name(name_don, 'male', 'age_2')['Name']],\n",
    "                                    [ 'male', 'age_3', 'other', p_name(name_don, 'male', 'age_3')['Name']],\n",
    "                                    [ 'male', 'age_4', 'other', p_name(name_don, 'male', 'age_4')['Name']],\n",
    "                                    [ 'male', 'age_5', 'other', p_name(name_don, 'male', 'age_5')['Name']],\n",
    "[ 'female', 'age_1', 'mr', p_name(name_mr, 'female', 'age_1')['Name']],\n",
    "                                    [ 'female', 'age_2', 'mr', p_name(name_mr, 'female', 'age_2')['Name']],\n",
    "                                    [ 'female', 'age_3', 'mr', p_name(name_mr, 'female', 'age_3')['Name']],\n",
    "                                    [ 'female', 'age_4', 'mr', p_name(name_mr, 'female', 'age_4')['Name']],\n",
    "                                    [ 'female', 'age_5', 'mr', p_name(name_mr, 'female', 'age_5')['Name']],\n",
    "[ 'female', 'age_1', 'ms', p_name(name_ms, 'female', 'age_1')['Name']],\n",
    "                                    [ 'female', 'age_2', 'ms', p_name(name_ms, 'female', 'age_2')['Name']],\n",
    "                                    [ 'female', 'age_3', 'ms', p_name(name_ms, 'female', 'age_3')['Name']],\n",
    "                                    [ 'female', 'age_4', 'ms', p_name(name_ms, 'female', 'age_4')['Name']],\n",
    "                                    [ 'female', 'age_5', 'ms', p_name(name_ms, 'female', 'age_5')['Name']],\n",
    "[ 'female', 'age_1', 'mrs', p_name(name_mrs, 'female', 'age_1')['Name']],\n",
    "                                    [ 'female', 'age_2', 'mrs', p_name(name_mrs, 'female', 'age_2')['Name']],\n",
    "                                    [ 'female', 'age_3', 'mrs', p_name(name_mrs, 'female', 'age_3')['Name']],\n",
    "                                    [ 'female', 'age_4', 'mrs', p_name(name_mrs, 'female', 'age_4')['Name']],\n",
    "                                    [ 'female', 'age_5', 'mrs', p_name(name_mrs, 'female', 'age_5')['Name']],\n",
    "[ 'female', 'age_1', 'mas', p_name(name_mas, 'female', 'age_1')['Name']],\n",
    "                                    [ 'female', 'age_2', 'mas', p_name(name_mas, 'female', 'age_2')['Name']],\n",
    "                                    [ 'female', 'age_3', 'mas', p_name(name_mas, 'female', 'age_3')['Name']],\n",
    "                                    [ 'female', 'age_4', 'mas', p_name(name_mas, 'female', 'age_4')['Name']],\n",
    "                                    [ 'female', 'age_5', 'mas', p_name(name_mas, 'female', 'age_5')['Name']],\n",
    "[ 'female', 'age_1', 'other', p_name(name_don, 'female', 'age_1')['Name']],\n",
    "                                    [ 'female', 'age_2', 'other', p_name(name_don, 'female', 'age_2')['Name']],\n",
    "                                    [ 'female', 'age_3', 'other', p_name(name_don, 'female', 'age_3')['Name']],\n",
    "                                    [ 'female', 'age_4', 'other', p_name(name_don, 'female', 'age_4')['Name']],\n",
    "                                    [ 'female', 'age_5', 'other', p_name(name_don, 'female', 'age_5')['Name']]],\n",
    "                                   [gender, age]\n",
    "                                     )"
   ]
  },
  {
   "cell_type": "code",
   "execution_count": null,
   "metadata": {
    "collapsed": false
   },
   "outputs": [],
   "source": []
  },
  {
   "cell_type": "code",
   "execution_count": null,
   "metadata": {
    "collapsed": true
   },
   "outputs": [],
   "source": []
  },
  {
   "cell_type": "code",
   "execution_count": 799,
   "metadata": {
    "collapsed": true
   },
   "outputs": [],
   "source": [
    "s1 = State( passenger, name = \"passenger\" )"
   ]
  },
  {
   "cell_type": "code",
   "execution_count": 800,
   "metadata": {
    "collapsed": true
   },
   "outputs": [],
   "source": [
    "s2 = State( gender, name = \"gender\" )"
   ]
  },
  {
   "cell_type": "code",
   "execution_count": 801,
   "metadata": {
    "collapsed": true
   },
   "outputs": [],
   "source": [
    "s3 = State( tclass, name = \"class\" )"
   ]
  },
  {
   "cell_type": "code",
   "execution_count": 802,
   "metadata": {
    "collapsed": true
   },
   "outputs": [],
   "source": [
    "s4 = State( age, name = \"age\" )"
   ]
  },
  {
   "cell_type": "code",
   "execution_count": 803,
   "metadata": {
    "collapsed": false
   },
   "outputs": [],
   "source": [
    "s5 = State( embarked, name=\"embarked\" )"
   ]
  },
  {
   "cell_type": "code",
   "execution_count": 804,
   "metadata": {
    "collapsed": true
   },
   "outputs": [],
   "source": [
    "s6 = State ( name, name = \"name\")"
   ]
  },
  {
   "cell_type": "code",
   "execution_count": 805,
   "metadata": {
    "collapsed": true
   },
   "outputs": [],
   "source": [
    "network = BayesianNetwork( \"Titanic Disaster\" )"
   ]
  },
  {
   "cell_type": "code",
   "execution_count": 806,
   "metadata": {
    "collapsed": true
   },
   "outputs": [],
   "source": [
    "network.add_nodes( [ s1, s2, s3, s4, s5, s6 ] )"
   ]
  },
  {
   "cell_type": "code",
   "execution_count": 807,
   "metadata": {
    "collapsed": true
   },
   "outputs": [],
   "source": [
    "network.add_edge( s1, s2 )"
   ]
  },
  {
   "cell_type": "code",
   "execution_count": 808,
   "metadata": {
    "collapsed": true
   },
   "outputs": [],
   "source": [
    "network.add_edge( s1, s3 )"
   ]
  },
  {
   "cell_type": "code",
   "execution_count": 809,
   "metadata": {
    "collapsed": true
   },
   "outputs": [],
   "source": [
    "network.add_edge( s1, s4 )"
   ]
  },
  {
   "cell_type": "code",
   "execution_count": null,
   "metadata": {
    "collapsed": false
   },
   "outputs": [],
   "source": [
    "network.add_edge( s1, s5)"
   ]
  },
  {
   "cell_type": "code",
   "execution_count": 810,
   "metadata": {
    "collapsed": true
   },
   "outputs": [],
   "source": [
    "network.add_edge( s2, s6)"
   ]
  },
  {
   "cell_type": "code",
   "execution_count": 811,
   "metadata": {
    "collapsed": true
   },
   "outputs": [],
   "source": [
    "network.add_edge( s4, s6)"
   ]
  },
  {
   "cell_type": "code",
   "execution_count": 812,
   "metadata": {
    "collapsed": false
   },
   "outputs": [],
   "source": [
    "network.bake()"
   ]
  },
  {
   "cell_type": "code",
   "execution_count": null,
   "metadata": {
    "collapsed": true
   },
   "outputs": [],
   "source": []
  },
  {
   "cell_type": "code",
   "execution_count": 813,
   "metadata": {
    "collapsed": true
   },
   "outputs": [],
   "source": [
    "def find_age(age):\n",
    "    if age < 20:\n",
    "        return 'age_1'\n",
    "    elif age >= 20 and age < 40:\n",
    "        return 'age_2'\n",
    "    elif age >= 40 and age < 60:\n",
    "        return 'age_3'\n",
    "    elif age >= 60 and age < 80:\n",
    "        return 'age_4'\n",
    "    elif age >= 80:\n",
    "        return 'age_5'\n",
    "    else:\n",
    "        return 'age_2'"
   ]
  },
  {
   "cell_type": "code",
   "execution_count": 814,
   "metadata": {
    "collapsed": true
   },
   "outputs": [],
   "source": [
    "def find_class(pclass):\n",
    "    if pclass == 1:\n",
    "        return 'first'\n",
    "    elif pclass == 2:\n",
    "        return 'second'\n",
    "    elif pclass == 3:\n",
    "        return 'third'\n",
    "    else:\n",
    "        return 'third'"
   ]
  },
  {
   "cell_type": "code",
   "execution_count": 815,
   "metadata": {
    "collapsed": true
   },
   "outputs": [],
   "source": [
    "def find_embark(embark):\n",
    "    if embark == 'C':\n",
    "        return 'embark_c'\n",
    "    elif embark == 'Q':\n",
    "        return 'embark_q'\n",
    "    elif embark == 'S':\n",
    "        return 'embark_s'\n",
    "    else:\n",
    "        return 'embark_s'"
   ]
  },
  {
   "cell_type": "code",
   "execution_count": 816,
   "metadata": {
    "collapsed": false
   },
   "outputs": [],
   "source": [
    "def find_name(name):\n",
    "    if name.find('Mr. ') != -1:\n",
    "        return 'mr'\n",
    "    elif name.find('Miss. ') != -1:\n",
    "        return 'ms'\n",
    "    elif name.find('Mrs. ') != -1:\n",
    "        return 'mrs'\n",
    "    elif name.find('Master. ') != -1:\n",
    "        return 'mas'\n",
    "    else:\n",
    "        return 'other'"
   ]
  },
  {
   "cell_type": "code",
   "execution_count": 817,
   "metadata": {
    "collapsed": true
   },
   "outputs": [],
   "source": [
    "train_test_data = pd.read_csv('../data/titanic/train_verify.csv', header=0)"
   ]
  },
  {
   "cell_type": "code",
   "execution_count": null,
   "metadata": {
    "collapsed": false
   },
   "outputs": [],
   "source": []
  },
  {
   "cell_type": "code",
   "execution_count": 818,
   "metadata": {
    "collapsed": false
   },
   "outputs": [],
   "source": [
    "train_test_res = []\n",
    "for row in train_test_data.values:\n",
    "    observations = {}\n",
    "    if pd.notnull(row[4]):\n",
    "        observations['gender'] = row[4]\n",
    "    if pd.notnull(row[5]):\n",
    "        observations['age'] = find_age(row[5])\n",
    "    if pd.notnull(row[2]):\n",
    "        observations['class'] = find_class(row[2])\n",
    "    if pd.notnull(row[11]):\n",
    "        observations['embarked'] = find_embark(row[11])\n",
    "    if pd.notnull(row[3]):\n",
    "        observations['name'] = find_name(row[3])\n",
    "\n",
    "    beliefs = network.forward_backward( observations )\n",
    "    res = beliefs[0].parameters[0]\n",
    "    if res['survive'] > res['perish']:\n",
    "        train_test_res.append(1)\n",
    "    else:\n",
    "        train_test_res.append(0)"
   ]
  },
  {
   "cell_type": "code",
   "execution_count": 819,
   "metadata": {
    "collapsed": true
   },
   "outputs": [],
   "source": [
    "prediction = zip(train_test_data.Survived, train_test_res)"
   ]
  },
  {
   "cell_type": "code",
   "execution_count": 820,
   "metadata": {
    "collapsed": true
   },
   "outputs": [],
   "source": [
    "match_count = 0\n",
    "for row in prediction:\n",
    "    if row[0] == row[1]:\n",
    "        match_count += 1"
   ]
  },
  {
   "cell_type": "code",
   "execution_count": 821,
   "metadata": {
    "collapsed": false
   },
   "outputs": [
    {
     "name": "stdout",
     "output_type": "stream",
     "text": [
      "Ratio of correctly predicted rows to total rows for 30% training data 0.811518324607\n"
     ]
    }
   ],
   "source": [
    "print \"Ratio of correctly predicted rows to total rows for 30% training data\", match_count / float(len(train_test_data.PassengerId))"
   ]
  },
  {
   "cell_type": "code",
   "execution_count": null,
   "metadata": {
    "collapsed": true
   },
   "outputs": [],
   "source": []
  },
  {
   "cell_type": "code",
   "execution_count": 822,
   "metadata": {
    "collapsed": true
   },
   "outputs": [],
   "source": [
    "test_data = pd.read_csv('../data/titanic/test.csv', header=0)"
   ]
  },
  {
   "cell_type": "code",
   "execution_count": null,
   "metadata": {
    "collapsed": false
   },
   "outputs": [],
   "source": []
  },
  {
   "cell_type": "code",
   "execution_count": null,
   "metadata": {
    "collapsed": false
   },
   "outputs": [],
   "source": []
  },
  {
   "cell_type": "code",
   "execution_count": 823,
   "metadata": {
    "collapsed": false
   },
   "outputs": [],
   "source": [
    "test_res = []\n",
    "for row in test_data.values:\n",
    "    observations = {}\n",
    "    if pd.notnull(row[4]):\n",
    "        observations['gender'] = row[3]\n",
    "    if pd.notnull(row[5]):\n",
    "        observations['age'] = find_age(row[4])\n",
    "    if pd.notnull(row[2]):\n",
    "        observations['class'] = find_class(row[1])\n",
    "    if pd.notnull(row[10]):\n",
    "        observations['embarked'] = find_embark(row[10])\n",
    "    if pd.notnull(row[2]):\n",
    "        observations['name'] = find_name(row[2])\n",
    "    beliefs = network.forward_backward( observations )\n",
    "    res = beliefs[0].parameters[0]\n",
    "    if res['survive'] > res['perish']:\n",
    "        test_res.append(1)\n",
    "    else:\n",
    "        test_res.append(0)\n"
   ]
  },
  {
   "cell_type": "code",
   "execution_count": 824,
   "metadata": {
    "collapsed": false
   },
   "outputs": [],
   "source": [
    "index = ['PassgengerId', 'Survived']\n",
    "d = {'PassengerId':test_data.PassengerId, 'Survived': test_res}\n",
    "df = pd.DataFrame(data = d, columns=['PassengerId', 'Survived'])"
   ]
  },
  {
   "cell_type": "code",
   "execution_count": 825,
   "metadata": {
    "collapsed": false
   },
   "outputs": [],
   "source": [
    "df.to_csv('../data/titanic/output_final_3.csv', index=False)"
   ]
  },
  {
   "cell_type": "code",
   "execution_count": null,
   "metadata": {
    "collapsed": true
   },
   "outputs": [],
   "source": []
  }
 ],
 "metadata": {
  "kernelspec": {
   "display_name": "Python 2",
   "language": "python",
   "name": "python2"
  },
  "language_info": {
   "codemirror_mode": {
    "name": "ipython",
    "version": 2
   },
   "file_extension": ".py",
   "mimetype": "text/x-python",
   "name": "python",
   "nbconvert_exporter": "python",
   "pygments_lexer": "ipython2",
   "version": "2.7.6"
  }
 },
 "nbformat": 4,
 "nbformat_minor": 0
}
