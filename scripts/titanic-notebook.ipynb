{
 "cells": [
  {
   "cell_type": "code",
   "execution_count": 188,
   "metadata": {
    "collapsed": true
   },
   "outputs": [],
   "source": [
    "import numpy as np"
   ]
  },
  {
   "cell_type": "code",
   "execution_count": 189,
   "metadata": {
    "collapsed": true
   },
   "outputs": [],
   "source": [
    "import pandas as pd"
   ]
  },
  {
   "cell_type": "code",
   "execution_count": 190,
   "metadata": {
    "collapsed": true
   },
   "outputs": [],
   "source": [
    "from pomegranate import *"
   ]
  },
  {
   "cell_type": "code",
   "execution_count": 191,
   "metadata": {
    "collapsed": true
   },
   "outputs": [],
   "source": [
    "def p_survived(list_x):\n",
    "    return (list_x[(list_x.Survived == 1)].count() + 1 ) / (list_x.count() + 2)"
   ]
  },
  {
   "cell_type": "code",
   "execution_count": null,
   "metadata": {
    "collapsed": true
   },
   "outputs": [],
   "source": []
  },
  {
   "cell_type": "code",
   "execution_count": 192,
   "metadata": {
    "collapsed": true
   },
   "outputs": [],
   "source": [
    "passenger = DiscreteDistribution( { 'survive': 0.5, 'perish': 0.5 } )"
   ]
  },
  {
   "cell_type": "code",
   "execution_count": 193,
   "metadata": {
    "collapsed": false
   },
   "outputs": [],
   "source": [
    "train_data = pd.read_csv('../data/titanic/train.csv', header=0)"
   ]
  },
  {
   "cell_type": "code",
   "execution_count": 194,
   "metadata": {
    "collapsed": true
   },
   "outputs": [],
   "source": [
    "gen_male = train_data[train_data.Sex == 'male']"
   ]
  },
  {
   "cell_type": "code",
   "execution_count": 195,
   "metadata": {
    "collapsed": true
   },
   "outputs": [],
   "source": [
    "gen_female = train_data[train_data.Sex == 'female']"
   ]
  },
  {
   "cell_type": "code",
   "execution_count": 196,
   "metadata": {
    "collapsed": false
   },
   "outputs": [],
   "source": [
    "p_gen_male = p_survived(gen_male)['Sex']"
   ]
  },
  {
   "cell_type": "code",
   "execution_count": 197,
   "metadata": {
    "collapsed": true
   },
   "outputs": [],
   "source": [
    "p_gen_female = p_survived(gen_female)['Sex']"
   ]
  },
  {
   "cell_type": "code",
   "execution_count": 198,
   "metadata": {
    "collapsed": false
   },
   "outputs": [
    {
     "data": {
      "text/plain": [
       "(449, 251)"
      ]
     },
     "execution_count": 198,
     "metadata": {},
     "output_type": "execute_result"
    }
   ],
   "source": [
    "len(gen_male), len(gen_female)"
   ]
  },
  {
   "cell_type": "code",
   "execution_count": null,
   "metadata": {
    "collapsed": true
   },
   "outputs": [],
   "source": []
  },
  {
   "cell_type": "code",
   "execution_count": 199,
   "metadata": {
    "collapsed": true
   },
   "outputs": [],
   "source": [
    "gender = ConditionalProbabilityTable(\n",
    "            [[ 'survive', 'male',   p_gen_male ],\n",
    "             [ 'survive', 'female', p_gen_female ],\n",
    "             [ 'perish', 'male',    1 - p_gen_male ],\n",
    "\t         [ 'perish', 'female',  1 - p_gen_female]], [passenger] )\n"
   ]
  },
  {
   "cell_type": "code",
   "execution_count": 200,
   "metadata": {
    "collapsed": false
   },
   "outputs": [],
   "source": [
    "tclass_1 = train_data[train_data.Pclass == 1]"
   ]
  },
  {
   "cell_type": "code",
   "execution_count": 201,
   "metadata": {
    "collapsed": true
   },
   "outputs": [],
   "source": [
    "tclass_2 = train_data[train_data.Pclass == 2]"
   ]
  },
  {
   "cell_type": "code",
   "execution_count": 202,
   "metadata": {
    "collapsed": true
   },
   "outputs": [],
   "source": [
    "tclass_3 = train_data[train_data.Pclass == 3]"
   ]
  },
  {
   "cell_type": "code",
   "execution_count": 203,
   "metadata": {
    "collapsed": true
   },
   "outputs": [],
   "source": [
    "p_tclass_1 = p_survived(tclass_1)['Pclass']"
   ]
  },
  {
   "cell_type": "code",
   "execution_count": 204,
   "metadata": {
    "collapsed": true
   },
   "outputs": [],
   "source": [
    "p_tclass_2 = p_survived(tclass_2)['Pclass']"
   ]
  },
  {
   "cell_type": "code",
   "execution_count": 205,
   "metadata": {
    "collapsed": true
   },
   "outputs": [],
   "source": [
    "p_tclass_3 = p_survived(tclass_3)['Pclass']"
   ]
  },
  {
   "cell_type": "code",
   "execution_count": 206,
   "metadata": {
    "collapsed": false
   },
   "outputs": [
    {
     "name": "stdout",
     "output_type": "stream",
     "text": [
      "0.602339181287 0.489795918367 0.255154639175\n"
     ]
    }
   ],
   "source": [
    "print p_tclass_1, p_tclass_2, p_tclass_3"
   ]
  },
  {
   "cell_type": "code",
   "execution_count": 207,
   "metadata": {
    "collapsed": false
   },
   "outputs": [
    {
     "data": {
      "text/plain": [
       "3.0"
      ]
     },
     "execution_count": 207,
     "metadata": {},
     "output_type": "execute_result"
    }
   ],
   "source": [
    "train_data.Pclass.median() #So use third class for NaN"
   ]
  },
  {
   "cell_type": "code",
   "execution_count": 208,
   "metadata": {
    "collapsed": true
   },
   "outputs": [],
   "source": [
    "tclass = ConditionalProbabilityTable(\n",
    "            [[ 'survive', 'first',  p_tclass_1 ],\n",
    "             [ 'survive', 'second', p_tclass_2 ],\n",
    "             [ 'survive', 'third',  p_tclass_3 ],\n",
    "             [ 'perish', 'first',  1 - p_tclass_1 ],\n",
    "             [ 'perish', 'second', 1 - p_tclass_2 ],\n",
    "\t         [ 'perish', 'third',  1 - p_tclass_3]], [passenger] )\n"
   ]
  },
  {
   "cell_type": "code",
   "execution_count": null,
   "metadata": {
    "collapsed": true
   },
   "outputs": [],
   "source": []
  },
  {
   "cell_type": "code",
   "execution_count": 209,
   "metadata": {
    "collapsed": true
   },
   "outputs": [],
   "source": [
    "age_1 = train_data[train_data.Age < 20]"
   ]
  },
  {
   "cell_type": "code",
   "execution_count": 210,
   "metadata": {
    "collapsed": true
   },
   "outputs": [],
   "source": [
    "age_2 = train_data[(train_data.Age >= 20) & (train_data.Age < 40)]"
   ]
  },
  {
   "cell_type": "code",
   "execution_count": 211,
   "metadata": {
    "collapsed": true
   },
   "outputs": [],
   "source": [
    "age_3 = train_data[(train_data.Age >= 40) & (train_data.Age < 60)]"
   ]
  },
  {
   "cell_type": "code",
   "execution_count": 212,
   "metadata": {
    "collapsed": true
   },
   "outputs": [],
   "source": [
    "age_4 = train_data[(train_data.Age >= 60) & (train_data.Age < 80)]"
   ]
  },
  {
   "cell_type": "code",
   "execution_count": 213,
   "metadata": {
    "collapsed": true
   },
   "outputs": [],
   "source": [
    "age_5 = train_data[(train_data.Age >= 80)]"
   ]
  },
  {
   "cell_type": "code",
   "execution_count": null,
   "metadata": {
    "collapsed": true
   },
   "outputs": [],
   "source": []
  },
  {
   "cell_type": "code",
   "execution_count": 214,
   "metadata": {
    "collapsed": false
   },
   "outputs": [],
   "source": [
    "p_age_1 = p_survived(age_1)['Age']"
   ]
  },
  {
   "cell_type": "code",
   "execution_count": 215,
   "metadata": {
    "collapsed": false
   },
   "outputs": [],
   "source": [
    "p_age_2 = p_survived(age_2)['Age']"
   ]
  },
  {
   "cell_type": "code",
   "execution_count": 216,
   "metadata": {
    "collapsed": false
   },
   "outputs": [],
   "source": [
    "p_age_3 = p_survived(age_3)['Age']"
   ]
  },
  {
   "cell_type": "code",
   "execution_count": 217,
   "metadata": {
    "collapsed": true
   },
   "outputs": [],
   "source": [
    "p_age_4 = p_survived(age_4)['Age']"
   ]
  },
  {
   "cell_type": "code",
   "execution_count": 218,
   "metadata": {
    "collapsed": true
   },
   "outputs": [],
   "source": [
    "p_age_5 = p_survived(age_5)['Age']"
   ]
  },
  {
   "cell_type": "code",
   "execution_count": 219,
   "metadata": {
    "collapsed": false
   },
   "outputs": [
    {
     "data": {
      "text/plain": [
       "28.0"
      ]
     },
     "execution_count": 219,
     "metadata": {},
     "output_type": "execute_result"
    }
   ],
   "source": [
    "train_data.Age.median() #so use age_2 for NaN"
   ]
  },
  {
   "cell_type": "code",
   "execution_count": 220,
   "metadata": {
    "collapsed": true
   },
   "outputs": [],
   "source": [
    "age = ConditionalProbabilityTable(\n",
    "            [[ 'survive', 'age_1',   p_age_1 ],\n",
    "             [ 'survive', 'age_2', p_age_2 ],\n",
    "             [ 'survive', 'age_3', p_age_3 ],\n",
    "             [ 'survive', 'age_4', p_age_4 ],\n",
    "             [ 'survive', 'age_5', p_age_5 ],             \n",
    "             [ 'perish', 'age_1',    1 - p_age_1 ],\n",
    "             [ 'perish', 'age_2',    1 - p_age_2 ],\n",
    "             [ 'perish', 'age_3',    1 - p_age_3 ],\n",
    "             [ 'perish', 'age_4',    1 - p_age_4 ],\n",
    "\t         [ 'perish', 'age_5',  1 - p_age_5]], [passenger] )"
   ]
  },
  {
   "cell_type": "code",
   "execution_count": 221,
   "metadata": {
    "collapsed": true
   },
   "outputs": [],
   "source": [
    "s1 = State( passenger, name = \"passenger\" )"
   ]
  },
  {
   "cell_type": "code",
   "execution_count": 222,
   "metadata": {
    "collapsed": true
   },
   "outputs": [],
   "source": [
    "s2 = State( gender, name = \"gender\" )"
   ]
  },
  {
   "cell_type": "code",
   "execution_count": 223,
   "metadata": {
    "collapsed": true
   },
   "outputs": [],
   "source": [
    "s3 = State( tclass, name = \"class\" )"
   ]
  },
  {
   "cell_type": "code",
   "execution_count": 224,
   "metadata": {
    "collapsed": true
   },
   "outputs": [],
   "source": [
    "s4 = State( age, name = \"age\" )"
   ]
  },
  {
   "cell_type": "code",
   "execution_count": 225,
   "metadata": {
    "collapsed": true
   },
   "outputs": [],
   "source": [
    "network = BayesianNetwork( \"Titanic Disaster\" )"
   ]
  },
  {
   "cell_type": "code",
   "execution_count": 226,
   "metadata": {
    "collapsed": true
   },
   "outputs": [],
   "source": [
    "network.add_nodes( [ s1, s2, s3, s4 ] )"
   ]
  },
  {
   "cell_type": "code",
   "execution_count": 227,
   "metadata": {
    "collapsed": true
   },
   "outputs": [],
   "source": [
    "network.add_edge( s1, s2 )"
   ]
  },
  {
   "cell_type": "code",
   "execution_count": 228,
   "metadata": {
    "collapsed": true
   },
   "outputs": [],
   "source": [
    "network.add_edge( s1, s3 )"
   ]
  },
  {
   "cell_type": "code",
   "execution_count": 229,
   "metadata": {
    "collapsed": true
   },
   "outputs": [],
   "source": [
    "network.add_edge( s1, s4 )"
   ]
  },
  {
   "cell_type": "code",
   "execution_count": 230,
   "metadata": {
    "collapsed": false
   },
   "outputs": [],
   "source": [
    "network.bake()"
   ]
  },
  {
   "cell_type": "code",
   "execution_count": null,
   "metadata": {
    "collapsed": true
   },
   "outputs": [],
   "source": []
  },
  {
   "cell_type": "code",
   "execution_count": 245,
   "metadata": {
    "collapsed": true
   },
   "outputs": [],
   "source": [
    "train_test_data = pd.read_csv('../data/titanic/train_verify.csv', header=0)"
   ]
  },
  {
   "cell_type": "code",
   "execution_count": 246,
   "metadata": {
    "collapsed": false
   },
   "outputs": [
    {
     "name": "stdout",
     "output_type": "stream",
     "text": [
      "{'gender': 'female', 'age': 'age_1', 'class': 'first'}\n",
      "{'gender': 'male', 'age': 'age_2', 'class': 'first'}\n",
      "{'gender': 'female', 'age': 'age_1', 'class': 'third'}\n",
      "{'gender': 'male', 'age': 'age_2', 'class': 'third'}\n",
      "{'gender': 'male', 'age': 'age_2', 'class': 'third'}\n",
      "{'gender': 'male', 'age': 'age_2', 'class': 'second'}\n",
      "{'gender': 'female', 'age': 'age_3', 'class': 'second'}\n",
      "{'gender': 'male', 'age': 'age_3', 'class': 'first'}\n",
      "{'gender': 'female', 'age': 'age_2', 'class': 'first'}\n",
      "{'gender': 'male', 'age': 'age_2', 'class': 'third'}\n",
      "{'gender': 'female', 'age': 'age_2', 'class': 'first'}\n",
      "{'gender': 'male', 'age': 'age_2', 'class': 'first'}\n",
      "{'gender': 'male', 'age': 'age_3', 'class': 'first'}\n",
      "{'gender': 'male', 'age': 'age_2', 'class': 'third'}\n",
      "{'gender': 'male', 'age': 'age_3', 'class': 'second'}\n",
      "{'gender': 'male', 'age': 'age_1', 'class': 'third'}\n",
      "{'gender': 'female', 'age': 'age_2', 'class': 'first'}\n",
      "{'gender': 'female', 'age': 'age_2', 'class': 'second'}\n",
      "{'gender': 'male', 'age': 'age_2', 'class': 'third'}\n",
      "{'gender': 'male', 'age': 'age_2', 'class': 'third'}\n",
      "{'gender': 'female', 'age': 'age_1', 'class': 'second'}\n",
      "{'gender': 'male', 'age': 'age_1', 'class': 'third'}\n",
      "{'gender': 'male', 'age': 'age_2', 'class': 'second'}\n",
      "{'gender': 'male', 'age': 'age_3', 'class': 'second'}\n",
      "{'gender': 'male', 'age': 'age_2', 'class': 'first'}\n",
      "{'gender': 'male', 'age': 'age_2', 'class': 'third'}\n",
      "{'gender': 'female', 'age': 'age_2', 'class': 'second'}\n",
      "{'gender': 'female', 'age': 'age_2', 'class': 'third'}\n",
      "{'gender': 'male', 'age': 'age_2', 'class': 'second'}\n",
      "{'gender': 'female', 'age': 'age_2', 'class': 'third'}\n",
      "{'gender': 'female', 'age': 'age_2', 'class': 'first'}\n",
      "{'gender': 'male', 'age': 'age_1', 'class': 'third'}\n",
      "{'gender': 'male', 'age': 'age_2', 'class': 'second'}\n",
      "{'gender': 'male', 'age': 'age_2', 'class': 'second'}\n",
      "{'gender': 'male', 'age': 'age_2', 'class': 'second'}\n",
      "{'gender': 'male', 'age': 'age_2', 'class': 'third'}\n",
      "{'gender': 'female', 'age': 'age_3', 'class': 'third'}\n",
      "{'gender': 'male', 'age': 'age_2', 'class': 'first'}\n",
      "{'gender': 'male', 'age': 'age_2', 'class': 'third'}\n",
      "{'gender': 'male', 'age': 'age_2', 'class': 'third'}\n",
      "{'gender': 'male', 'age': 'age_2', 'class': 'first'}\n",
      "{'gender': 'male', 'age': 'age_2', 'class': 'first'}\n",
      "{'gender': 'female', 'age': 'age_2', 'class': 'first'}\n",
      "{'gender': 'male', 'age': 'age_2', 'class': 'third'}\n",
      "{'gender': 'male', 'age': 'age_2', 'class': 'third'}\n",
      "{'gender': 'male', 'age': 'age_4', 'class': 'first'}\n",
      "{'gender': 'male', 'age': 'age_1', 'class': 'third'}\n",
      "{'gender': 'female', 'age': 'age_2', 'class': 'second'}\n",
      "{'gender': 'male', 'age': 'age_1', 'class': 'first'}\n",
      "{'gender': 'male', 'age': 'age_2', 'class': 'third'}\n",
      "{'gender': 'female', 'age': 'age_1', 'class': 'second'}\n",
      "{'gender': 'male', 'age': 'age_1', 'class': 'third'}\n",
      "{'gender': 'male', 'age': 'age_2', 'class': 'third'}\n",
      "{'gender': 'male', 'age': 'age_2', 'class': 'third'}\n",
      "{'gender': 'female', 'age': 'age_3', 'class': 'second'}\n",
      "{'gender': 'male', 'age': 'age_1', 'class': 'second'}\n",
      "{'gender': 'male', 'age': 'age_2', 'class': 'third'}\n",
      "{'gender': 'male', 'age': 'age_1', 'class': 'second'}\n",
      "{'gender': 'male', 'age': 'age_2', 'class': 'third'}\n",
      "{'gender': 'female', 'age': 'age_2', 'class': 'first'}\n",
      "{'gender': 'male', 'age': 'age_2', 'class': 'third'}\n",
      "{'gender': 'male', 'age': 'age_3', 'class': 'third'}\n",
      "{'gender': 'male', 'age': 'age_2', 'class': 'third'}\n",
      "{'gender': 'female', 'age': 'age_2', 'class': 'first'}\n",
      "{'gender': 'male', 'age': 'age_1', 'class': 'third'}\n",
      "{'gender': 'female', 'age': 'age_3', 'class': 'first'}\n",
      "{'gender': 'male', 'age': 'age_2', 'class': 'first'}\n",
      "{'gender': 'female', 'age': 'age_2', 'class': 'third'}\n",
      "{'gender': 'male', 'age': 'age_2', 'class': 'third'}\n",
      "{'gender': 'male', 'age': 'age_2', 'class': 'third'}\n",
      "{'gender': 'male', 'age': 'age_2', 'class': 'third'}\n",
      "{'gender': 'male', 'age': 'age_3', 'class': 'third'}\n",
      "{'gender': 'female', 'age': 'age_3', 'class': 'second'}\n",
      "{'gender': 'male', 'age': 'age_2', 'class': 'third'}\n",
      "{'gender': 'female', 'age': 'age_3', 'class': 'second'}\n",
      "{'gender': 'male', 'age': 'age_1', 'class': 'third'}\n",
      "{'gender': 'male', 'age': 'age_2', 'class': 'third'}\n",
      "{'gender': 'female', 'age': 'age_1', 'class': 'third'}\n",
      "{'gender': 'male', 'age': 'age_2', 'class': 'third'}\n",
      "{'gender': 'female', 'age': 'age_3', 'class': 'first'}\n",
      "{'gender': 'female', 'age': 'age_1', 'class': 'third'}\n",
      "{'gender': 'female', 'age': 'age_1', 'class': 'first'}\n",
      "{'gender': 'male', 'age': 'age_2', 'class': 'first'}\n",
      "{'gender': 'male', 'age': 'age_2', 'class': 'third'}\n",
      "{'gender': 'male', 'age': 'age_2', 'class': 'third'}\n",
      "{'gender': 'male', 'age': 'age_2', 'class': 'third'}\n",
      "{'gender': 'female', 'age': 'age_1', 'class': 'third'}\n",
      "{'gender': 'male', 'age': 'age_1', 'class': 'third'}\n",
      "{'gender': 'male', 'age': 'age_1', 'class': 'third'}\n",
      "{'gender': 'male', 'age': 'age_3', 'class': 'first'}\n",
      "{'gender': 'male', 'age': 'age_2', 'class': 'third'}\n",
      "{'gender': 'male', 'age': 'age_1', 'class': 'second'}\n",
      "{'gender': 'female', 'age': 'age_2', 'class': 'third'}\n",
      "{'gender': 'male', 'age': 'age_2', 'class': 'first'}\n",
      "{'gender': 'male', 'age': 'age_2', 'class': 'third'}\n",
      "{'gender': 'male', 'age': 'age_2', 'class': 'second'}\n",
      "{'gender': 'female', 'age': 'age_3', 'class': 'first'}\n",
      "{'gender': 'female', 'age': 'age_2', 'class': 'third'}\n",
      "{'gender': 'male', 'age': 'age_2', 'class': 'third'}\n",
      "{'gender': 'female', 'age': 'age_2', 'class': 'third'}\n",
      "{'gender': 'male', 'age': 'age_2', 'class': 'second'}\n",
      "{'gender': 'female', 'age': 'age_2', 'class': 'second'}\n",
      "{'gender': 'male', 'age': 'age_1', 'class': 'first'}\n",
      "{'gender': 'male', 'age': 'age_1', 'class': 'third'}\n",
      "{'gender': 'male', 'age': 'age_2', 'class': 'third'}\n",
      "{'gender': 'male', 'age': 'age_2', 'class': 'third'}\n",
      "{'gender': 'male', 'age': 'age_2', 'class': 'first'}\n",
      "{'gender': 'female', 'age': 'age_1', 'class': 'third'}\n",
      "{'gender': 'male', 'age': 'age_2', 'class': 'second'}\n",
      "{'gender': 'female', 'age': 'age_2', 'class': 'first'}\n",
      "{'gender': 'male', 'age': 'age_2', 'class': 'third'}\n",
      "{'gender': 'male', 'age': 'age_2', 'class': 'third'}\n",
      "{'gender': 'male', 'age': 'age_2', 'class': 'second'}\n",
      "{'gender': 'female', 'age': 'age_1', 'class': 'third'}\n",
      "{'gender': 'male', 'age': 'age_2', 'class': 'third'}\n",
      "{'gender': 'male', 'age': 'age_2', 'class': 'first'}\n",
      "{'gender': 'female', 'age': 'age_2', 'class': 'third'}\n",
      "{'gender': 'male', 'age': 'age_2', 'class': 'second'}\n",
      "{'gender': 'male', 'age': 'age_3', 'class': 'third'}\n",
      "{'gender': 'male', 'age': 'age_1', 'class': 'third'}\n",
      "{'gender': 'female', 'age': 'age_3', 'class': 'first'}\n",
      "{'gender': 'male', 'age': 'age_2', 'class': 'third'}\n",
      "{'gender': 'male', 'age': 'age_2', 'class': 'first'}\n",
      "{'gender': 'female', 'age': 'age_2', 'class': 'third'}\n",
      "{'gender': 'male', 'age': 'age_1', 'class': 'third'}\n",
      "{'gender': 'male', 'age': 'age_2', 'class': 'third'}\n",
      "{'gender': 'male', 'age': 'age_2', 'class': 'third'}\n",
      "{'gender': 'male', 'age': 'age_1', 'class': 'second'}\n",
      "{'gender': 'male', 'age': 'age_2', 'class': 'third'}\n",
      "{'gender': 'female', 'age': 'age_4', 'class': 'first'}\n",
      "{'gender': 'female', 'age': 'age_1', 'class': 'third'}\n",
      "{'gender': 'male', 'age': 'age_1', 'class': 'second'}\n",
      "{'gender': 'male', 'age': 'age_2', 'class': 'third'}\n",
      "{'gender': 'male', 'age': 'age_2', 'class': 'third'}\n",
      "{'gender': 'male', 'age': 'age_1', 'class': 'third'}\n",
      "{'gender': 'female', 'age': 'age_2', 'class': 'first'}\n",
      "{'gender': 'male', 'age': 'age_2', 'class': 'third'}\n",
      "{'gender': 'male', 'age': 'age_2', 'class': 'third'}\n",
      "{'gender': 'male', 'age': 'age_2', 'class': 'third'}\n",
      "{'gender': 'male', 'age': 'age_2', 'class': 'first'}\n",
      "{'gender': 'male', 'age': 'age_2', 'class': 'third'}\n",
      "{'gender': 'male', 'age': 'age_1', 'class': 'second'}\n",
      "{'gender': 'female', 'age': 'age_2', 'class': 'first'}\n",
      "{'gender': 'male', 'age': 'age_2', 'class': 'third'}\n",
      "{'gender': 'male', 'age': 'age_1', 'class': 'third'}\n",
      "{'gender': 'male', 'age': 'age_3', 'class': 'third'}\n",
      "{'gender': 'male', 'age': 'age_2', 'class': 'third'}\n",
      "{'gender': 'male', 'age': 'age_2', 'class': 'third'}\n",
      "{'gender': 'male', 'age': 'age_2', 'class': 'second'}\n",
      "{'gender': 'female', 'age': 'age_2', 'class': 'first'}\n",
      "{'gender': 'male', 'age': 'age_1', 'class': 'third'}\n",
      "{'gender': 'male', 'age': 'age_4', 'class': 'third'}\n",
      "{'gender': 'female', 'age': 'age_1', 'class': 'third'}\n",
      "{'gender': 'female', 'age': 'age_1', 'class': 'first'}\n",
      "{'gender': 'female', 'age': 'age_3', 'class': 'second'}\n",
      "{'gender': 'female', 'age': 'age_1', 'class': 'third'}\n",
      "{'gender': 'female', 'age': 'age_3', 'class': 'first'}\n",
      "{'gender': 'male', 'age': 'age_3', 'class': 'first'}\n",
      "{'gender': 'female', 'age': 'age_2', 'class': 'third'}\n",
      "{'gender': 'male', 'age': 'age_2', 'class': 'third'}\n",
      "{'gender': 'male', 'age': 'age_3', 'class': 'third'}\n",
      "{'gender': 'male', 'age': 'age_2', 'class': 'second'}\n",
      "{'gender': 'female', 'age': 'age_3', 'class': 'first'}\n",
      "{'gender': 'female', 'age': 'age_2', 'class': 'third'}\n",
      "{'gender': 'male', 'age': 'age_2', 'class': 'second'}\n",
      "{'gender': 'female', 'age': 'age_3', 'class': 'second'}\n",
      "{'gender': 'female', 'age': 'age_2', 'class': 'second'}\n",
      "{'gender': 'male', 'age': 'age_2', 'class': 'first'}\n",
      "{'gender': 'male', 'age': 'age_2', 'class': 'third'}\n",
      "{'gender': 'male', 'age': 'age_1', 'class': 'third'}\n",
      "{'gender': 'male', 'age': 'age_2', 'class': 'third'}\n",
      "{'gender': 'female', 'age': 'age_3', 'class': 'first'}\n",
      "{'gender': 'male', 'age': 'age_2', 'class': 'first'}\n",
      "{'gender': 'male', 'age': 'age_3', 'class': 'third'}\n",
      "{'gender': 'female', 'age': 'age_2', 'class': 'second'}\n",
      "{'gender': 'female', 'age': 'age_1', 'class': 'third'}\n",
      "{'gender': 'male', 'age': 'age_2', 'class': 'third'}\n",
      "{'gender': 'male', 'age': 'age_1', 'class': 'third'}\n",
      "{'gender': 'male', 'age': 'age_2', 'class': 'third'}\n",
      "{'gender': 'female', 'age': 'age_3', 'class': 'first'}\n",
      "{'gender': 'female', 'age': 'age_2', 'class': 'second'}\n",
      "{'gender': 'male', 'age': 'age_2', 'class': 'third'}\n",
      "{'gender': 'female', 'age': 'age_2', 'class': 'third'}\n",
      "{'gender': 'male', 'age': 'age_2', 'class': 'second'}\n",
      "{'gender': 'male', 'age': 'age_2', 'class': 'third'}\n",
      "{'gender': 'female', 'age': 'age_2', 'class': 'third'}\n",
      "{'gender': 'male', 'age': 'age_2', 'class': 'second'}\n",
      "{'gender': 'female', 'age': 'age_1', 'class': 'first'}\n",
      "{'gender': 'female', 'age': 'age_2', 'class': 'third'}\n",
      "{'gender': 'male', 'age': 'age_2', 'class': 'first'}\n",
      "{'gender': 'male', 'age': 'age_2', 'class': 'third'}\n"
     ]
    }
   ],
   "source": [
    "train_test_res = []\n",
    "for row in train_test_data.values:\n",
    "    observations = {'gender': row[4], 'age': find_age(row[5]), 'class': find_class(row[2]) }\n",
    "    beliefs = network.forward_backward( observations )\n",
    "    res = beliefs[0].parameters[0]\n",
    "    if res['survive'] > res['perish']:\n",
    "        train_test_res.append(1)\n",
    "    else:\n",
    "        train_test_res.append(0)"
   ]
  },
  {
   "cell_type": "code",
   "execution_count": 247,
   "metadata": {
    "collapsed": true
   },
   "outputs": [],
   "source": [
    "prediction = zip(train_test_data.Survived, train_test_res)"
   ]
  },
  {
   "cell_type": "code",
   "execution_count": 248,
   "metadata": {
    "collapsed": true
   },
   "outputs": [],
   "source": [
    "match_count = 0\n",
    "for row in prediction:\n",
    "    if row[0] == row[1]:\n",
    "        match_count += 1"
   ]
  },
  {
   "cell_type": "code",
   "execution_count": 250,
   "metadata": {
    "collapsed": false
   },
   "outputs": [
    {
     "name": "stdout",
     "output_type": "stream",
     "text": [
      "Ratio of correctly predicted rows to total rows for 30% training data 0.811518324607\n"
     ]
    }
   ],
   "source": [
    "print \"Ratio of correctly predicted rows to total rows for 30% training data\", match_count / float(len(train_test_data.PassengerId))"
   ]
  },
  {
   "cell_type": "code",
   "execution_count": null,
   "metadata": {
    "collapsed": true
   },
   "outputs": [],
   "source": []
  },
  {
   "cell_type": "code",
   "execution_count": 244,
   "metadata": {
    "collapsed": true
   },
   "outputs": [],
   "source": [
    "test_data = pd.read_csv('../data/titanic/test.csv', header=0)"
   ]
  },
  {
   "cell_type": "code",
   "execution_count": 237,
   "metadata": {
    "collapsed": false
   },
   "outputs": [],
   "source": [
    "def find_age(age):\n",
    "    if age < 20:\n",
    "        return 'age_1'\n",
    "    elif age >= 20 and age < 40:\n",
    "        return 'age_2'\n",
    "    elif age >= 40 and age < 60:\n",
    "        return 'age_3'\n",
    "    elif age >= 60 and age < 80:\n",
    "        return 'age_4'\n",
    "    elif age >= 80:\n",
    "        return 'age_5'\n",
    "    else:\n",
    "        return 'age_2'"
   ]
  },
  {
   "cell_type": "code",
   "execution_count": 238,
   "metadata": {
    "collapsed": false
   },
   "outputs": [],
   "source": [
    "def find_class(pclass):\n",
    "    if pclass == 1:\n",
    "        return 'first'\n",
    "    elif pclass == 2:\n",
    "        return 'second'\n",
    "    elif pclass == 3:\n",
    "        return 'third'\n",
    "    else:\n",
    "        return 'third'"
   ]
  },
  {
   "cell_type": "code",
   "execution_count": 239,
   "metadata": {
    "collapsed": false
   },
   "outputs": [],
   "source": [
    "test_res = []\n",
    "for row in test_data.values:\n",
    "    observations = {'gender': row[3], 'age': find_age(row[4]), 'class': find_class(row[1]) }\n",
    "    beliefs = network.forward_backward( observations )\n",
    "    res = beliefs[0].parameters[0]\n",
    "    if res['survive'] > res['perish']:\n",
    "        test_res.append(1)\n",
    "    else:\n",
    "        test_res.append(0)\n"
   ]
  },
  {
   "cell_type": "code",
   "execution_count": 242,
   "metadata": {
    "collapsed": false
   },
   "outputs": [],
   "source": [
    "index = ['PassgengerId', 'Survived']\n",
    "d = {'PassengerId':test_data.PassengerId, 'Survived': test_res}\n",
    "df = pd.DataFrame(data = d, columns=['PassengerId', 'Survived'])"
   ]
  },
  {
   "cell_type": "code",
   "execution_count": 243,
   "metadata": {
    "collapsed": false
   },
   "outputs": [],
   "source": [
    "df.to_csv('../data/titanic/output_final.csv', index=False)"
   ]
  },
  {
   "cell_type": "code",
   "execution_count": null,
   "metadata": {
    "collapsed": true
   },
   "outputs": [],
   "source": []
  }
 ],
 "metadata": {
  "kernelspec": {
   "display_name": "Python 2",
   "language": "python",
   "name": "python2"
  },
  "language_info": {
   "codemirror_mode": {
    "name": "ipython",
    "version": 2
   },
   "file_extension": ".py",
   "mimetype": "text/x-python",
   "name": "python",
   "nbconvert_exporter": "python",
   "pygments_lexer": "ipython2",
   "version": "2.7.6"
  }
 },
 "nbformat": 4,
 "nbformat_minor": 0
}
